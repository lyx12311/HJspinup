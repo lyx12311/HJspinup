{
 "cells": [
  {
   "cell_type": "code",
   "execution_count": 29,
   "metadata": {},
   "outputs": [],
   "source": [
    "from HeaderP import *\n",
    "import Astraea\n",
    "import pandas as pd\n",
    "import glob\n",
    "import os\n",
    "import starspot as ss\n",
    "from starspot import sigma_clipping\n",
    "import starspot.rotation_tools as rt\n",
    "import matplotlib\n",
    "matplotlib.use('Agg')"
   ]
  },
  {
   "cell_type": "code",
   "execution_count": null,
   "metadata": {},
   "outputs": [],
   "source": [
    "splitNo=144000\n",
    "Periods_acf=np.zeros((3000,20))\n",
    "Periods_LG=np.zeros((3000,20))\n",
    "LG_peaks=np.zeros((3000,20))\n",
    "ACF_peaks=np.zeros((3000,20))\n",
    "KIDs=[]\n",
    "starcount=0"
   ]
  },
  {
   "cell_type": "code",
   "execution_count": null,
   "metadata": {
    "scrolled": true
   },
   "outputs": [],
   "source": [
    "StarN='kplr005094751'\n",
    "# count lines\n",
    "Nline=0\n",
    "with open('./KOIlcs/download_exoarch_20015_6.bat', 'r') as f:\n",
    "    for line in f:\n",
    "        Nline += 1\n",
    "print('total number of lines',Nline)\n",
    "\n",
    "with open('./KOIlcs/download_exoarch_20015_6.bat') as f:\n",
    "    for i in range(9):\n",
    "        f.readline()\n",
    "    \n",
    "    allData_time=[]\n",
    "    allData_sig=[]\n",
    "    allData_sig_err=[]\n",
    "    for i in range(Nline-9):\n",
    "        update_progress(i/(Nline-9))\n",
    "        line=f.readline()\n",
    "        if 'tbl' not in line:\n",
    "            StarN_new=line.split('.fits')[0].split(\" '\")[1].split('-')[0]\n",
    "            filename=line.split(\" '\")[1].split('fits')[0]+'fits'\n",
    "            print(filename)\n",
    "            if StarN_new==StarN:\n",
    "                os.system(line)\n",
    "                data=readfits(filename)\n",
    "                data=data.dropna(subset=['TIME','PDCSAP_FLUX'])\n",
    "                allData_time.append(data.TIME)\n",
    "                allData_sig.append(data.PDCSAP_FLUX/np.median(data.PDCSAP_FLUX)-1)\n",
    "                allData_sig_err.append(data.PDCSAP_FLUX_ERR/np.median(data.PDCSAP_FLUX))\n",
    "                StarN=StarN_new\n",
    "                os.system('rm '+filename)\n",
    "            else:\n",
    "                print('New Star!')\n",
    "                time_r_all=np.array([item for sublist in allData_time for item in sublist])\n",
    "                sig_r_all=np.array([item for sublist in allData_sig for item in sublist])\n",
    "                sig_err_r_all=np.array([item for sublist in allData_sig_err for item in sublist])\n",
    "                    \n",
    "                # split into 3\n",
    "                array_len=len(time_r_all)\n",
    "                print(array_len)\n",
    "                split_len=int(np.ceil(float(array_len)/splitNo))\n",
    "                \n",
    "                print(split_len)\n",
    "                for i in range(split_len):\n",
    "                    if i==split_len-1:\n",
    "                        time_r=time_r_all[i*splitNo:]\n",
    "                        sig_r=sig_r_all[i*splitNo:]\n",
    "                        sig_err_r=sig_err_r_all[i*splitNo:]\n",
    "                        if split_len==1:\n",
    "                            time_r=time_r_all[i*splitNo:]\n",
    "                            sig_r=sig_r_all[i*splitNo:]\n",
    "                            sig_err_r=sig_err_r_all[i*splitNo:]\n",
    "                        elif len(time_r)<splitNo/2:\n",
    "                            continue\n",
    "                    else:\n",
    "                        time_r=time_r_all[i*splitNo:i*splitNo+splitNo]\n",
    "                        sig_r=sig_r_all[i*splitNo:i*splitNo+splitNo]\n",
    "                        sig_err_r=sig_err_r_all[i*splitNo:i*splitNo+splitNo]\n",
    "                    \n",
    "                    med = np.median(sig_r)\n",
    "                \n",
    "                    m = sigma_clipping.sigma_clip(sig_r, nsigma=6)\n",
    "                    x, y, yerr = time_r[m], sig_r[m], sig_err_r[m]\n",
    "                \n",
    "                    smooth, mask = sigma_clipping.filter_sigma_clip(x, y, window_length=199)\n",
    "                \n",
    "                    time, sig, sig_err = x[mask], y[mask], yerr[mask]\n",
    "                \n",
    "                    rotate = ss.RotationModel(time, sig, sig_err)\n",
    "                    ls_period = rotate.ls_rotation()\n",
    "                    tess_cadence=1./24./2.\n",
    "                    acf_period = rotate.acf_rotation(tess_cadence)\n",
    "                \n",
    "                    peak_positions, peak_heights = rt.get_peak_statistics(1./rotate.freq, rotate.power)\n",
    "                    acf_peak_positions, acf_peak_heights = rt.get_peak_statistics(rotate.lags, rotate.acf, sort_by=\"height\")\n",
    "                    \n",
    "                    print(ls_period,acf_period,peak_heights[0],acf_peak_heights[0])\n",
    "                    Periods_LG[starcount,i]=ls_period\n",
    "                    Periods_acf[starcount,i]=acf_period\n",
    "                    LG_peaks[starcount,i]=peak_heights[0]\n",
    "                    ACF_peaks[starcount,i]=acf_peak_heights[0]\n",
    "                    \n",
    "                    \n",
    "                print(starcount)\n",
    "                KIDs.append(StarN)\n",
    "                print(Periods_LG)\n",
    "                \n",
    "                rotate.big_plot([\"ls\", \"acf\"], method_xlim=(0, max([acf_period,ls_period])*1.5));\n",
    "                plt.savefig('./pngs/'+StarN+'.png')\n",
    "                \n",
    "                allData_time=[]\n",
    "                allData_sig=[]\n",
    "                allData_sig_err=[]\n",
    "                os.system(line)\n",
    "                data=readfits(filename)\n",
    "                data=data.dropna(subset=['TIME','PDCSAP_FLUX'])\n",
    "                allData_time.append(data.TIME)\n",
    "                allData_sig.append(data.PDCSAP_FLUX/np.median(data.PDCSAP_FLUX)-1)\n",
    "                allData_sig_err.append(data.PDCSAP_FLUX_ERR/np.median(data.PDCSAP_FLUX)-1)\n",
    "                StarN=StarN_new\n",
    "                starcount=starcount+1\n",
    "                os.system('rm '+filename) \n",
    "                "
   ]
  },
  {
   "cell_type": "code",
   "execution_count": 95,
   "metadata": {},
   "outputs": [
    {
     "name": "stdout",
     "output_type": "stream",
     "text": [
      "1630\n"
     ]
    }
   ],
   "source": [
    "print(starcount)"
   ]
  },
  {
   "cell_type": "code",
   "execution_count": 96,
   "metadata": {
    "scrolled": true
   },
   "outputs": [],
   "source": [
    "Prot_acf=pd.DataFrame(Periods_acf,columns=['Prot_acf'+str(i) for i in range(20)])\n",
    "Prot_LG=pd.DataFrame(Periods_LG,columns=['Prot_lg'+str(i) for i in range(20)])\n",
    "peak_acf=pd.DataFrame(ACF_peaks,columns=['peak_acf'+str(i) for i in range(20)])\n",
    "peak_LG=pd.DataFrame(LG_peaks,columns=['peak_lg'+str(i) for i in range(20)])\n",
    "Prot_acf['KIC']=np.zeros(3000)\n",
    "Prot_acf['KIC'][0:len(KIDs)]=KIDs\n",
    "frames = [Prot_acf, Prot_LG, peak_acf, peak_LG]\n",
    "result = pd.concat(frames, axis=1, sort=False)\n",
    "result.to_pickle('Periods.pkl')"
   ]
  },
  {
   "cell_type": "code",
   "execution_count": 18,
   "metadata": {},
   "outputs": [
    {
     "data": {
      "text/plain": [
       "5"
      ]
     },
     "execution_count": 18,
     "metadata": {},
     "output_type": "execute_result"
    }
   ],
   "source": [
    "Periods_acf=np.zeros((3000,5))\n",
    "len(Periods_acf[0])"
   ]
  },
  {
   "cell_type": "code",
   "execution_count": 199,
   "metadata": {},
   "outputs": [],
   "source": [
    "LGs=pd.DataFrame(np.array(Periods_LG))\n",
    "\n",
    "datas=pd.DataFrame(np.array((KIDs,Periods_LG,Periods_acf,)).T,columns=['KID','LG','acf'])\n",
    "datas['periods']=datas['acf']\n",
    "\n"
   ]
  },
  {
   "cell_type": "code",
   "execution_count": 269,
   "metadata": {},
   "outputs": [
    {
     "name": "stdout",
     "output_type": "stream",
     "text": [
      "kplr005780885\n"
     ]
    }
   ],
   "source": [
    "print(StarN)\n",
    "#(KIDs,Periods_LG,Periods_acf)"
   ]
  },
  {
   "cell_type": "code",
   "execution_count": 305,
   "metadata": {},
   "outputs": [
    {
     "name": "stderr",
     "output_type": "stream",
     "text": [
      "/Users/lucy/anaconda3/lib/python3.7/site-packages/ipykernel_launcher.py:1: SettingWithCopyWarning: \n",
      "A value is trying to be set on a copy of a slice from a DataFrame\n",
      "\n",
      "See the caveats in the documentation: http://pandas.pydata.org/pandas-docs/stable/user_guide/indexing.html#returning-a-view-versus-a-copy\n",
      "  \"\"\"Entry point for launching an IPython kernel.\n"
     ]
    }
   ],
   "source": [
    "datas.periods[datas['KID']=='kplr009529744']=Periods_LG[-1]"
   ]
  },
  {
   "cell_type": "code",
   "execution_count": 306,
   "metadata": {},
   "outputs": [
    {
     "data": {
      "text/html": [
       "<div>\n",
       "<style scoped>\n",
       "    .dataframe tbody tr th:only-of-type {\n",
       "        vertical-align: middle;\n",
       "    }\n",
       "\n",
       "    .dataframe tbody tr th {\n",
       "        vertical-align: top;\n",
       "    }\n",
       "\n",
       "    .dataframe thead th {\n",
       "        text-align: right;\n",
       "    }\n",
       "</style>\n",
       "<table border=\"1\" class=\"dataframe\">\n",
       "  <thead>\n",
       "    <tr style=\"text-align: right;\">\n",
       "      <th></th>\n",
       "      <th>KID</th>\n",
       "      <th>LG</th>\n",
       "      <th>acf</th>\n",
       "      <th>periods</th>\n",
       "    </tr>\n",
       "  </thead>\n",
       "  <tbody>\n",
       "    <tr>\n",
       "      <td>691</td>\n",
       "      <td>kplr009529744</td>\n",
       "      <td>2.404395471227754</td>\n",
       "      <td>2.291667</td>\n",
       "      <td>12.4423</td>\n",
       "    </tr>\n",
       "  </tbody>\n",
       "</table>\n",
       "</div>"
      ],
      "text/plain": [
       "               KID                 LG       acf  periods\n",
       "691  kplr009529744  2.404395471227754  2.291667  12.4423"
      ]
     },
     "execution_count": 306,
     "metadata": {},
     "output_type": "execute_result"
    }
   ],
   "source": [
    "datas[datas['KID']=='kplr009529744']"
   ]
  },
  {
   "cell_type": "code",
   "execution_count": 256,
   "metadata": {},
   "outputs": [
    {
     "name": "stderr",
     "output_type": "stream",
     "text": [
      "/Users/lucy/anaconda3/lib/python3.7/site-packages/ipykernel_launcher.py:2: SettingWithCopyWarning: \n",
      "A value is trying to be set on a copy of a slice from a DataFrame\n",
      "\n",
      "See the caveats in the documentation: http://pandas.pydata.org/pandas-docs/stable/user_guide/indexing.html#returning-a-view-versus-a-copy\n",
      "  \n"
     ]
    }
   ],
   "source": [
    "kid='kplr005780885'\n",
    "datas.periods[datas['KID']==kid]=datas.LG[datas['KID']==kid]"
   ]
  },
  {
   "cell_type": "code",
   "execution_count": 315,
   "metadata": {},
   "outputs": [],
   "source": [
    "datas['KIDs']=[int(datas['KID'][i][4:]) for i in range(len(datas))]"
   ]
  },
  {
   "cell_type": "code",
   "execution_count": 316,
   "metadata": {},
   "outputs": [
    {
     "data": {
      "text/html": [
       "<div>\n",
       "<style scoped>\n",
       "    .dataframe tbody tr th:only-of-type {\n",
       "        vertical-align: middle;\n",
       "    }\n",
       "\n",
       "    .dataframe tbody tr th {\n",
       "        vertical-align: top;\n",
       "    }\n",
       "\n",
       "    .dataframe thead th {\n",
       "        text-align: right;\n",
       "    }\n",
       "</style>\n",
       "<table border=\"1\" class=\"dataframe\">\n",
       "  <thead>\n",
       "    <tr style=\"text-align: right;\">\n",
       "      <th></th>\n",
       "      <th>KID</th>\n",
       "      <th>LG</th>\n",
       "      <th>acf</th>\n",
       "      <th>periods</th>\n",
       "      <th>KIDs</th>\n",
       "    </tr>\n",
       "  </thead>\n",
       "  <tbody>\n",
       "    <tr>\n",
       "      <td>0</td>\n",
       "      <td>kplr010000941</td>\n",
       "      <td>13.374822447456486</td>\n",
       "      <td>12.937500</td>\n",
       "      <td>13.374822447456486</td>\n",
       "      <td>10000941</td>\n",
       "    </tr>\n",
       "    <tr>\n",
       "      <td>1</td>\n",
       "      <td>kplr010001368</td>\n",
       "      <td>11.769628405576034</td>\n",
       "      <td>1.041667</td>\n",
       "      <td>11.769628405576034</td>\n",
       "      <td>10001368</td>\n",
       "    </tr>\n",
       "    <tr>\n",
       "      <td>2</td>\n",
       "      <td>kplr010002866</td>\n",
       "      <td>10.981419252816762</td>\n",
       "      <td>11.062500</td>\n",
       "      <td>11.0625</td>\n",
       "      <td>10002866</td>\n",
       "    </tr>\n",
       "    <tr>\n",
       "      <td>3</td>\n",
       "      <td>kplr010004519</td>\n",
       "      <td>3.268460284868773</td>\n",
       "      <td>1.062500</td>\n",
       "      <td>3.268460284868773</td>\n",
       "      <td>10004519</td>\n",
       "    </tr>\n",
       "    <tr>\n",
       "      <td>4</td>\n",
       "      <td>kplr010004738</td>\n",
       "      <td>23.060479017060313</td>\n",
       "      <td>1.041667</td>\n",
       "      <td>23.060479017060313</td>\n",
       "      <td>10004738</td>\n",
       "    </tr>\n",
       "    <tr>\n",
       "      <td>...</td>\n",
       "      <td>...</td>\n",
       "      <td>...</td>\n",
       "      <td>...</td>\n",
       "      <td>...</td>\n",
       "      <td>...</td>\n",
       "    </tr>\n",
       "    <tr>\n",
       "      <td>1627</td>\n",
       "      <td>kplr011187436</td>\n",
       "      <td>4.561016058585926</td>\n",
       "      <td>4.604167</td>\n",
       "      <td>4.604166666666666</td>\n",
       "      <td>11187436</td>\n",
       "    </tr>\n",
       "    <tr>\n",
       "      <td>1628</td>\n",
       "      <td>kplr011189311</td>\n",
       "      <td>4.933968045329805</td>\n",
       "      <td>5.166667</td>\n",
       "      <td>5.166666666666666</td>\n",
       "      <td>11189311</td>\n",
       "    </tr>\n",
       "    <tr>\n",
       "      <td>1629</td>\n",
       "      <td>kplr011192998</td>\n",
       "      <td>11.658237676536627</td>\n",
       "      <td>1.041667</td>\n",
       "      <td>11.658237676536627</td>\n",
       "      <td>11192998</td>\n",
       "    </tr>\n",
       "    <tr>\n",
       "      <td>1630</td>\n",
       "      <td>kplr011193263</td>\n",
       "      <td>11.210549681168779</td>\n",
       "      <td>1.041667</td>\n",
       "      <td>11.210549681168779</td>\n",
       "      <td>11193263</td>\n",
       "    </tr>\n",
       "    <tr>\n",
       "      <td>1631</td>\n",
       "      <td>kplr011194032</td>\n",
       "      <td>37.715546503733876</td>\n",
       "      <td>1.041667</td>\n",
       "      <td>37.715546503733876</td>\n",
       "      <td>11194032</td>\n",
       "    </tr>\n",
       "  </tbody>\n",
       "</table>\n",
       "<p>1632 rows × 5 columns</p>\n",
       "</div>"
      ],
      "text/plain": [
       "                KID                  LG        acf             periods  \\\n",
       "0     kplr010000941  13.374822447456486  12.937500  13.374822447456486   \n",
       "1     kplr010001368  11.769628405576034   1.041667  11.769628405576034   \n",
       "2     kplr010002866  10.981419252816762  11.062500             11.0625   \n",
       "3     kplr010004519   3.268460284868773   1.062500   3.268460284868773   \n",
       "4     kplr010004738  23.060479017060313   1.041667  23.060479017060313   \n",
       "...             ...                 ...        ...                 ...   \n",
       "1627  kplr011187436   4.561016058585926   4.604167   4.604166666666666   \n",
       "1628  kplr011189311   4.933968045329805   5.166667   5.166666666666666   \n",
       "1629  kplr011192998  11.658237676536627   1.041667  11.658237676536627   \n",
       "1630  kplr011193263  11.210549681168779   1.041667  11.210549681168779   \n",
       "1631  kplr011194032  37.715546503733876   1.041667  37.715546503733876   \n",
       "\n",
       "          KIDs  \n",
       "0     10000941  \n",
       "1     10001368  \n",
       "2     10002866  \n",
       "3     10004519  \n",
       "4     10004738  \n",
       "...        ...  \n",
       "1627  11187436  \n",
       "1628  11189311  \n",
       "1629  11192998  \n",
       "1630  11193263  \n",
       "1631  11194032  \n",
       "\n",
       "[1632 rows x 5 columns]"
      ]
     },
     "execution_count": 316,
     "metadata": {},
     "output_type": "execute_result"
    }
   ],
   "source": [
    "datas"
   ]
  },
  {
   "cell_type": "code",
   "execution_count": 317,
   "metadata": {},
   "outputs": [
    {
     "name": "stdout",
     "output_type": "stream",
     "text": [
      "1647\n"
     ]
    }
   ],
   "source": [
    "print(len(KIDs))\n",
    "datas.to_pickle('Prots.pkl')\n"
   ]
  },
  {
   "cell_type": "code",
   "execution_count": 128,
   "metadata": {},
   "outputs": [
    {
     "data": {
      "text/plain": [
       "'kplr010000162-2010174085026_llc.fits'"
      ]
     },
     "execution_count": 128,
     "metadata": {},
     "output_type": "execute_result"
    }
   ],
   "source": [
    "line.split(\" '\")[1].split('fits')[0]+'fits'"
   ]
  },
  {
   "cell_type": "code",
   "execution_count": 178,
   "metadata": {},
   "outputs": [
    {
     "ename": "IndexError",
     "evalue": "invalid index to scalar variable.",
     "output_type": "error",
     "traceback": [
      "\u001b[0;31m---------------------------------------------------------------------------\u001b[0m",
      "\u001b[0;31mIndexError\u001b[0m                                Traceback (most recent call last)",
      "\u001b[0;32m<ipython-input-178-d5f233f3f326>\u001b[0m in \u001b[0;36m<module>\u001b[0;34m\u001b[0m\n\u001b[0;32m----> 1\u001b[0;31m \u001b[0mmax\u001b[0m\u001b[0;34m(\u001b[0m\u001b[0;34m[\u001b[0m\u001b[0macf_period\u001b[0m\u001b[0;34m,\u001b[0m\u001b[0mls_period\u001b[0m\u001b[0;34m]\u001b[0m\u001b[0;34m)\u001b[0m\u001b[0;34m[\u001b[0m\u001b[0;36m0\u001b[0m\u001b[0;34m]\u001b[0m\u001b[0;34m*\u001b[0m\u001b[0;36m1.5\u001b[0m\u001b[0;34m\u001b[0m\u001b[0;34m\u001b[0m\u001b[0m\n\u001b[0m",
      "\u001b[0;31mIndexError\u001b[0m: invalid index to scalar variable."
     ]
    }
   ],
   "source": [
    "max([acf_period,ls_period])[0]*1.5"
   ]
  },
  {
   "cell_type": "code",
   "execution_count": 14,
   "metadata": {},
   "outputs": [],
   "source": [
    "filenames=glob.glob(\"./KOIlcs/*.fits\")"
   ]
  },
  {
   "cell_type": "code",
   "execution_count": 129,
   "metadata": {
    "scrolled": false
   },
   "outputs": [
    {
     "name": "stdout",
     "output_type": "stream",
     "text": [
      "./KOIlcs/kplr010000162-2009259160929_llc.fits\n",
      "./KOIlcs/kplr010000162-2010265121752_llc.fits\n",
      "./KOIlcs/kplr010000162-2010355172524_llc.fits\n",
      "./KOIlcs/kplr010000162-2011073133259_llc.fits\n",
      "./KOIlcs/kplr010000162-2010174085026_llc.fits\n",
      "./KOIlcs/kplr010000162-2011271113734_llc.fits\n",
      "./KOIlcs/kplr010000162-2009166043257_llc.fits\n",
      "./KOIlcs/kplr010000162-2009350155506_llc.fits\n",
      "./KOIlcs/kplr010000162-2011177032512_llc.fits\n",
      "./KOIlcs/kplr010000162-2012004120508_llc.fits\n",
      "./KOIlcs/kplr010000162-2012088054726_llc.fits\n",
      "./KOIlcs/kplr010000162-2010078095331_llc.fits\n"
     ]
    },
    {
     "data": {
      "image/png": "[encoded data removed]",
      "text/plain": [
       "<Figure size 432x288 with 1 Axes>"
      ]
     },
     "metadata": {
      "needs_background": "light"
     },
     "output_type": "display_data"
    }
   ],
   "source": [
    "for file in filenames:\n",
    "    print(file)\n",
    "    data=readfits(file)\n",
    "    data=data.dropna(subset=['TIME','PDCSAP_FLUX'])\n",
    "    plt.plot(data.TIME,data.PDCSAP_FLUX_ERR/np.median(data.PDCSAP_FLUX)-1)\n"
   ]
  },
  {
   "cell_type": "code",
   "execution_count": 2,
   "metadata": {},
   "outputs": [],
   "source": [
    "Periods_acf=[[] for i in range(5)]"
   ]
  },
  {
   "cell_type": "code",
   "execution_count": 5,
   "metadata": {},
   "outputs": [],
   "source": [
    "Periods_acf[0].append(1)"
   ]
  },
  {
   "cell_type": "code",
   "execution_count": 6,
   "metadata": {},
   "outputs": [
    {
     "data": {
      "text/plain": [
       "[[1], [], [], [], []]"
      ]
     },
     "execution_count": 6,
     "metadata": {},
     "output_type": "execute_result"
    }
   ],
   "source": [
    "Periods_acf"
   ]
  },
  {
   "cell_type": "code",
   "execution_count": null,
   "metadata": {},
   "outputs": [],
   "source": []
  }
 ],
 "metadata": {
  "kernelspec": {
   "display_name": "Python 3",
   "language": "python",
   "name": "python3"
  },
  "language_info": {
   "codemirror_mode": {
    "name": "ipython",
    "version": 3
   },
   "file_extension": ".py",
   "mimetype": "text/x-python",
   "name": "python",
   "nbconvert_exporter": "python",
   "pygments_lexer": "ipython3",
   "version": "3.7.3"
  }
 },
 "nbformat": 4,
 "nbformat_minor": 2
}
